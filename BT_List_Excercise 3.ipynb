{
 "cells": [
  {
   "cell_type": "code",
   "execution_count": 18,
   "id": "3ec3a358",
   "metadata": {},
   "outputs": [
    {
     "name": "stdout",
     "output_type": "stream",
     "text": [
      "[21, 15, 9, 8, 6, 5, -1, -6, -16]\n",
      "2 số lớn nhất của chuỗi là : [21, 15]\n"
     ]
    }
   ],
   "source": [
    "l = [5,-6,-1,6,8,9,15,21,-16]\n",
    "l1 = sorted(l, reverse = True)\n",
    "print(l1)\n",
    "print('2 số lớn nhất của chuỗi là :',l1[:2])"
   ]
  }
 ],
 "metadata": {
  "kernelspec": {
   "display_name": "Python 3 (ipykernel)",
   "language": "python",
   "name": "python3"
  },
  "language_info": {
   "codemirror_mode": {
    "name": "ipython",
    "version": 3
   },
   "file_extension": ".py",
   "mimetype": "text/x-python",
   "name": "python",
   "nbconvert_exporter": "python",
   "pygments_lexer": "ipython3",
   "version": "3.10.4"
  }
 },
 "nbformat": 4,
 "nbformat_minor": 5
}
